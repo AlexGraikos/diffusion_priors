{
 "cells": [
  {
   "cell_type": "code",
   "execution_count": 1,
   "id": "1bf0acd8-c2f1-4ad9-b617-5bdc4262544c",
   "metadata": {
    "tags": []
   },
   "outputs": [],
   "source": [
    "import glob\n",
    "import numpy as np\n",
    "import torch\n",
    "import torch.nn as nn\n",
    "import torch.nn.functional as F\n",
    "import torchvision\n",
    "import math\n",
    "\n",
    "from unet import UNetModel\n",
    "from utils import *\n",
    "from diffusion import GaussianDiffusion\n",
    "\n",
    "import tqdm\n",
    "import matplotlib.pyplot as plt"
   ]
  },
  {
   "cell_type": "markdown",
   "id": "e33c8520-d4a0-4ad8-b2f9-61eb7181b222",
   "metadata": {},
   "source": [
    "## Load data"
   ]
  },
  {
   "cell_type": "code",
   "execution_count": 2,
   "id": "e9bcb9ec-fd2b-43c7-9cc8-1d09ba0c8042",
   "metadata": {},
   "outputs": [],
   "source": [
    "import rasterio\n",
    "from torch.utils.data.dataset import Dataset\n",
    "\n",
    "class PatchDataset(Dataset):\n",
    "    def __init__(self, naip_paths_list, label_paths_list, patch_size, mapping=None, transforms=None):\n",
    "        '''\n",
    "        Args:\n",
    "            naip_paths_list (list): Paths to NAIP images\n",
    "            label_paths_list (list): Paths to labels\n",
    "            patch_size (tuple): Extracted patch size\n",
    "            mapping (numpy.array): Label mapping array\n",
    "            transforms (function): Function that applies image and label transforms\n",
    "        '''\n",
    "        self.naip_paths_list = naip_paths_list\n",
    "        self.label_paths_list = label_paths_list\n",
    "        self.patch_size = patch_size\n",
    "        self.mapping = mapping\n",
    "        if transforms is None:\n",
    "            self.transforms = lambda x: x\n",
    "        else:\n",
    "            self.transforms = transforms\n",
    "\n",
    "        # Load tiles\n",
    "        self.naip = []\n",
    "        for path in self.naip_paths_list:\n",
    "            with rasterio.open(path) as f:\n",
    "                self.naip.append(f.read())\n",
    "        print('Loaded', len(self.naip), 'NAIP tiles')\n",
    "\n",
    "        self.labels = []\n",
    "        for path in self.label_paths_list:\n",
    "            with rasterio.open(path) as f:\n",
    "                # Apply label mapping\n",
    "                label_raster = f.read()\n",
    "                label_raster = self.mapping[label_raster.astype(np.uint8)]\n",
    "                self.labels.append(label_raster)\n",
    "        print('Loaded', len(self.labels), 'label tiles')\n",
    "\n",
    "    def __len__(self):\n",
    "        assert len(self.naip_paths_list) == len(self.label_paths_list), 'NAIP/Labels tiles mismatch'\n",
    "        return len(self.naip_paths_list)\n",
    "\n",
    "    def __getitem__(self, idx):\n",
    "        '''\n",
    "        Args:\n",
    "            idx (int): Index of tile to sample from\n",
    "        '''\n",
    "        # Select the tile to get a random patch from\n",
    "        naip = self.naip[idx]\n",
    "        labels = self.labels[idx]\n",
    "        \n",
    "        # Randomly select patch in tile\n",
    "        height, width = naip.shape[1], naip.shape[2]\n",
    "        row = torch.randint(0, height - self.patch_size[0], size=(1,)).item()\n",
    "        col = torch.randint(0, width - self.patch_size[1], size=(1,)).item()\n",
    "\n",
    "        # Use copy to not modify the original labels\n",
    "        naip_patch = naip[:, row:row+self.patch_size[0], col:col+self.patch_size[1]].copy()\n",
    "        labels_patch = labels[:, row:row+self.patch_size[0], col:col+self.patch_size[1]].copy()\n",
    "        \n",
    "        # Apply transforms\n",
    "        naip_patch = torch.from_numpy(naip_patch)\n",
    "        labels_patch = torch.from_numpy(labels_patch)\n",
    "        naip_patch, labels_patch = self.transforms(naip_patch, labels_patch)\n",
    "        \n",
    "        return {'naip': naip_patch, 'labels': labels_patch}\n",
    "    "
   ]
  },
  {
   "cell_type": "code",
   "execution_count": 5,
   "id": "2b5930f6-19ca-4505-be9c-f2d947648730",
   "metadata": {},
   "outputs": [
    {
     "name": "stdout",
     "output_type": "stream",
     "text": [
      "Loaded 10 NAIP tiles\n",
      "Loaded 10 label tiles\n",
      "Created dataset\n"
     ]
    }
   ],
   "source": [
    "# Specify tiles\n",
    "naip_paths = glob.glob('data/enviroatlas_lotp/pittsburgh_pa-2010_1m-train_tiles-debuffered/*naip.tif')\n",
    "naip_paths.sort()\n",
    "label_paths = glob.glob('data/enviroatlas_lotp/pittsburgh_pa-2010_1m-train_tiles-debuffered/*highres_labels*.tif')\n",
    "label_paths.sort()\n",
    "\n",
    "# Transforms to apply\n",
    "def transforms(img, labels, p_horizontal=0.5, p_vertical=0.5):\n",
    "    # Horizontal flip\n",
    "    p = np.random.rand()\n",
    "    if p < p_horizontal:\n",
    "        img = torchvision.transforms.functional.hflip(img)\n",
    "        labels = torchvision.transforms.functional.hflip(labels)\n",
    "        \n",
    "    # Vertical flip\n",
    "    p = np.random.rand()\n",
    "    if p < p_vertical:\n",
    "        img = torchvision.transforms.functional.vflip(img)\n",
    "        labels = torchvision.transforms.functional.vflip(labels)\n",
    "        \n",
    "    # Resizing\n",
    "    img = F.interpolate(img.unsqueeze(0).float(), scale_factor=1/4, mode='nearest').squeeze(0) / 255.\n",
    "    labels = F.interpolate(labels.unsqueeze(0).float(), scale_factor=1/4, mode='nearest').squeeze(0)\n",
    "\n",
    "    return img, labels\n",
    "    \n",
    "# Create data set\n",
    "device = torch.device('cuda:0')\n",
    "patch_size = (256,256)\n",
    "n_labels = len(enviroatlas_simplified_labels)\n",
    "dataset = PatchDataset(naip_paths, label_paths,\n",
    "                       patch_size=patch_size, \n",
    "                       mapping=enviroatlas_simplified_label_mapping_array,\n",
    "                       transforms=transforms)\n",
    "\n",
    "# Create random patch-sampling dataloader\n",
    "batch_size = 32\n",
    "sampler = torch.utils.data.RandomSampler(dataset, replacement=True, num_samples=batch_size)\n",
    "dataloader = torch.utils.data.DataLoader(dataset, batch_size=batch_size, num_workers=0, sampler=sampler)\n",
    "print('Created dataset')"
   ]
  },
  {
   "cell_type": "code",
   "execution_count": 7,
   "id": "f598c0b4-9aea-4db9-8183-258555bc88a1",
   "metadata": {},
   "outputs": [
    {
     "data": {
      "image/png": "[encoded data removed]",
      "text/plain": [
       "<Figure size 720x360 with 2 Axes>"
      ]
     },
     "metadata": {
      "needs_background": "light"
     },
     "output_type": "display_data"
    }
   ],
   "source": [
    "# Sample random batch\n",
    "for batch in dataloader:\n",
    "    naip = batch['naip']\n",
    "    labels = batch['labels']\n",
    "    labels_one_hot = F.one_hot(labels.long(), n_labels).transpose(-1,1).squeeze(-1).float()\n",
    "    break\n",
    "    \n",
    "# Visualize\n",
    "fig, ax = plt.subplots(1, 2, figsize=(10,5))\n",
    "ax[0].imshow(naip[0].numpy().transpose([1,2,0])[:,:,:3])\n",
    "ax[0].set_title('Image')\n",
    "ax[1].imshow(labels[0,0,:,:], cmap=enviroatlas_simplified_cmap, vmin=0, vmax=n_labels-1, interpolation='none')\n",
    "ax[1].set_title('Labels')\n",
    "plt.show()"
   ]
  },
  {
   "cell_type": "markdown",
   "id": "7d77ba75-03d0-414a-bb24-452ab9a6a63f",
   "metadata": {},
   "source": [
    "## Train Model"
   ]
  },
  {
   "cell_type": "code",
   "execution_count": null,
   "id": "bc142c96-33c8-4d86-84b4-589412b2bc95",
   "metadata": {
    "tags": []
   },
   "outputs": [],
   "source": [
    "# Train diffusion model\n",
    "diffusion = GaussianDiffusion(T=1000, schedule='linear')\n",
    "net = UNetModel(image_size=patch_size[0], in_channels=n_labels, out_channels=n_labels, \n",
    "                model_channels=128, num_res_blocks=2, channel_mult=(1,2,3,4),\n",
    "                attention_resolutions=[16,8], num_heads=4).to(device)\n",
    "print('Parameters:', sum([p.numel() for p in net.parameters()]))\n",
    "net.train()\n",
    "opt = torch.optim.Adam(net.parameters(), lr=1e-4)\n",
    "\n",
    "steps = 100000\n",
    "update_every = 20\n",
    "vis_every = 10000\n",
    "save_every = 10000\n",
    "losses = []\n",
    "progress_bar = tqdm.tqdm(range(steps))\n",
    "    \n",
    "for i in progress_bar:\n",
    "    for batch in dataloader:\n",
    "        # Unwrap batch\n",
    "        naip = batch['naip']\n",
    "        labels = batch['labels']\n",
    "        labels = F.one_hot(labels.long(), n_labels).transpose(-1,1).squeeze(-1).float()\n",
    "        \n",
    "    # Sample from diffusion\n",
    "    t = np.random.randint(1, diffusion.T+1, labels.shape[0]).astype(int)\n",
    "    xt, epsilon = diffusion.sample(labels, t)\n",
    "    t = torch.from_numpy(t).float().view(labels.shape[0])\n",
    "    # Denoise\n",
    "    epsilon_pred = net(xt.float().to(device), t.float().to(device))\n",
    "\n",
    "    # Compute loss   \n",
    "    loss = F.mse_loss(epsilon_pred, epsilon.float().to(device))\n",
    "    # Update parameters\n",
    "    opt.zero_grad()\n",
    "    loss.backward()\n",
    "    opt.step()\n",
    "\n",
    "    losses.append(loss.item())\n",
    "    if (i+1) % update_every == 0 or i == 0:\n",
    "        progress_bar.set_postfix({'Loss': np.mean(losses)})\n",
    "        losses = []\n",
    "\n",
    "    # Visualize sample\n",
    "    if (i+1) % vis_every == 0:\n",
    "        with torch.no_grad():\n",
    "            net.eval()\n",
    "            sample = diffusion.inverse(net, shape=(n_labels,64,64))\n",
    "            net.train()\n",
    "\n",
    "        fig, ax = plt.subplots(1, 1, figsize=(5,5))\n",
    "        ax.imshow(labels_to_color(sample[0].cpu().numpy(), False, enviroatlas_simplified_labels, enviroatlas_simplified_label_colors))\n",
    "        ax.set_title('Sample')\n",
    "        plt.show()\n",
    "\n",
    "    # Save model parameters\n",
    "    if (i+1) % save_every == 0:\n",
    "        torch.save(net.state_dict(), f'models/unet_{i+1}.pth')\n",
    "\n",
    "torch.save(net.state_dict(), f'models/unet_{i+1}.pth')\n",
    "    "
   ]
  },
  {
   "cell_type": "markdown",
   "id": "14eea4ac-6ead-459c-a7c3-304ec0c7394a",
   "metadata": {},
   "source": [
    "## Sample"
   ]
  },
  {
   "cell_type": "code",
   "execution_count": 10,
   "id": "33f9c9e7-76dc-4e11-aa8a-e2a9f32a4529",
   "metadata": {},
   "outputs": [
    {
     "name": "stderr",
     "output_type": "stream",
     "text": [
      "Clipping input data to the valid range for imshow with RGB data ([0..1] for floats or [0..255] for integers).\n"
     ]
    },
    {
     "data": {
      "image/png": "[encoded data removed]",
      "text/plain": [
       "<Figure size 360x360 with 1 Axes>"
      ]
     },
     "metadata": {
      "needs_background": "light"
     },
     "output_type": "display_data"
    }
   ],
   "source": [
    "diffusion = GaussianDiffusion(T=1000, schedule='linear')\n",
    "\n",
    "with torch.no_grad():\n",
    "    net.eval()\n",
    "    sample = diffusion.inverse(net, shape=(n_labels,patch_size[0]//4,patch_size[1]//4), device=device)\n",
    "    net.train()\n",
    "\n",
    "fig, ax = plt.subplots(1, 1, figsize=(5,5))\n",
    "ax.imshow(labels_to_color(sample[0].cpu().numpy(), False, enviroatlas_simplified_labels, enviroatlas_simplified_label_colors))\n",
    "ax.set_title('Sample')\n",
    "plt.show()"
   ]
  },
  {
   "cell_type": "markdown",
   "id": "bf959ce1-7a64-45ef-8d6a-01dc99b2a57a",
   "metadata": {},
   "source": [
    "## Save/Load Model"
   ]
  },
  {
   "cell_type": "code",
   "execution_count": 9,
   "id": "2429dbd6-3e69-48b5-a1c1-2e00b9f90344",
   "metadata": {},
   "outputs": [
    {
     "data": {
      "text/plain": [
       "<All keys matched successfully>"
      ]
     },
     "execution_count": 9,
     "metadata": {},
     "output_type": "execute_result"
    }
   ],
   "source": [
    "# Save/Load model\n",
    "#torch.save(net.state_dict(), f'models/unet_final.pth')\n",
    " \n",
    "net = UNetModel(image_size=patch_size[0], in_channels=n_labels, out_channels=n_labels, \n",
    "                model_channels=128, num_res_blocks=2, channel_mult=(1,2,3,4),\n",
    "                attention_resolutions=[16,8], num_heads=4).to(device)\n",
    "\n",
    "net.train()\n",
    "net.load_state_dict(torch.load('models/unet_100000.pth'))"
   ]
  }
 ],
 "metadata": {
  "kernelspec": {
   "display_name": "torch_geo_simple",
   "language": "python",
   "name": "conda-env-torch_geo_simple-py"
  },
  "language_info": {
   "codemirror_mode": {
    "name": "ipython",
    "version": 3
   },
   "file_extension": ".py",
   "mimetype": "text/x-python",
   "name": "python",
   "nbconvert_exporter": "python",
   "pygments_lexer": "ipython3",
   "version": "3.9.5"
  }
 },
 "nbformat": 4,
 "nbformat_minor": 5
}
